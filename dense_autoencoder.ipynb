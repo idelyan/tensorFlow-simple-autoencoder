{
  "nbformat": 4,
  "nbformat_minor": 0,
  "metadata": {
    "colab": {
      "provenance": []
    },
    "kernelspec": {
      "name": "python3",
      "display_name": "Python 3"
    },
    "language_info": {
      "name": "python"
    }
  },
  "cells": [
    {
      "cell_type": "code",
      "execution_count": 137,
      "metadata": {
        "id": "4-tNrvzD0OtK"
      },
      "outputs": [],
      "source": [
        "import tensorflow as tf\n",
        "from tensorflow import keras\n",
        "from keras.layers import Dense, Flatten, Input, Reshape\n",
        "from keras.optimizers import Adam\n",
        "from keras.datasets import mnist\n",
        "from keras.utils import to_categorical\n",
        "from keras.models import Model, load_model\n",
        "from keras.callbacks import ModelCheckpoint, EarlyStopping, ReduceLROnPlateau\n",
        "import numpy as np"
      ]
    },
    {
      "cell_type": "code",
      "source": [
        "(x_train, _), (x_test, _) = mnist.load_data()"
      ],
      "metadata": {
        "id": "d4qPIVtK0osB"
      },
      "execution_count": 138,
      "outputs": []
    },
    {
      "cell_type": "code",
      "source": [
        "encoding_dim = 49\n",
        "batch_size = 64\n",
        "input_shape = 28, 28, 1\n",
        "\n",
        "x_train = x_train.astype('float32') / 255\n",
        "x_test = x_test.astype('float32') / 255\n",
        "\n",
        "train_data = np.concatenate([x_train, x_test])\n",
        "\n",
        "x_train = np.expand_dims(x_train, -1)\n",
        "x_test = np.expand_dims(x_test, -1)\n",
        "\n",
        "print('Number of train samples:', train_data.shape[0])"
      ],
      "metadata": {
        "colab": {
          "base_uri": "https://localhost:8080/"
        },
        "id": "QO-pIWB-1aCS",
        "outputId": "a4394990-bcd3-4dfc-9d2a-3efcb74abcd1"
      },
      "execution_count": 139,
      "outputs": [
        {
          "output_type": "stream",
          "name": "stdout",
          "text": [
            "Number of train samples: 70000\n"
          ]
        }
      ]
    },
    {
      "cell_type": "code",
      "source": [
        "encoder_input = Input(shape=input_shape)\n",
        "\n",
        "x = Flatten()(encoder_input)\n",
        "encoder_output = Dense(encoding_dim, activation='relu')(x)\n",
        "\n",
        "encoder = Model(encoder_input, encoder_output, name='encoder')\n",
        "encoder.summary()\n",
        "\n",
        "decoder_input = Input(shape=(encoding_dim,))\n",
        "x = Dense(28*28, activation='sigmoid')(decoder_input)\n",
        "decoder_output = Reshape(input_shape)(x)\n",
        "\n",
        "decoder = Model(decoder_input, decoder_output, name='decoder')\n",
        "decoder.summary()"
      ],
      "metadata": {
        "colab": {
          "base_uri": "https://localhost:8080/"
        },
        "id": "DNJFT_SF2ttq",
        "outputId": "1b57d62d-e00d-49c3-c4eb-cb21e4e7ceef"
      },
      "execution_count": 140,
      "outputs": [
        {
          "output_type": "stream",
          "name": "stdout",
          "text": [
            "Model: \"encoder\"\n",
            "_________________________________________________________________\n",
            " Layer (type)                Output Shape              Param #   \n",
            "=================================================================\n",
            " input_26 (InputLayer)       [(None, 28, 28, 1)]       0         \n",
            "                                                                 \n",
            " flatten_18 (Flatten)        (None, 784)               0         \n",
            "                                                                 \n",
            " dense_38 (Dense)            (None, 49)                38465     \n",
            "                                                                 \n",
            "=================================================================\n",
            "Total params: 38,465\n",
            "Trainable params: 38,465\n",
            "Non-trainable params: 0\n",
            "_________________________________________________________________\n",
            "Model: \"decoder\"\n",
            "_________________________________________________________________\n",
            " Layer (type)                Output Shape              Param #   \n",
            "=================================================================\n",
            " input_27 (InputLayer)       [(None, 49)]              0         \n",
            "                                                                 \n",
            " dense_39 (Dense)            (None, 784)               39200     \n",
            "                                                                 \n",
            " reshape_3 (Reshape)         (None, 28, 28, 1)         0         \n",
            "                                                                 \n",
            "=================================================================\n",
            "Total params: 39,200\n",
            "Trainable params: 39,200\n",
            "Non-trainable params: 0\n",
            "_________________________________________________________________\n"
          ]
        }
      ]
    },
    {
      "cell_type": "code",
      "source": [
        "autoencoder = Model(encoder_input, decoder(encoder(encoder_input)), name='autoencoder')\n",
        "autoencoder.summary()"
      ],
      "metadata": {
        "colab": {
          "base_uri": "https://localhost:8080/"
        },
        "id": "2AiAjkpPIUfK",
        "outputId": "2fe68fbe-dd45-465f-a472-84d0b10f4e1f"
      },
      "execution_count": 141,
      "outputs": [
        {
          "output_type": "stream",
          "name": "stdout",
          "text": [
            "Model: \"autoencoder\"\n",
            "_________________________________________________________________\n",
            " Layer (type)                Output Shape              Param #   \n",
            "=================================================================\n",
            " input_26 (InputLayer)       [(None, 28, 28, 1)]       0         \n",
            "                                                                 \n",
            " encoder (Functional)        (None, 49)                38465     \n",
            "                                                                 \n",
            " decoder (Functional)        (None, 28, 28, 1)         39200     \n",
            "                                                                 \n",
            "=================================================================\n",
            "Total params: 77,665\n",
            "Trainable params: 77,665\n",
            "Non-trainable params: 0\n",
            "_________________________________________________________________\n"
          ]
        }
      ]
    },
    {
      "cell_type": "code",
      "source": [
        "autoencoder.compile(optimizer='adam', loss='binary_crossentropy')"
      ],
      "metadata": {
        "id": "TQyNXAnk2wA8"
      },
      "execution_count": 142,
      "outputs": []
    },
    {
      "cell_type": "code",
      "source": [
        "callbacks = [\n",
        "    EarlyStopping(patience=3, monitor='val_loss', mode=\"auto\"),\n",
        "    ReduceLROnPlateau(factor=0.1, patience=2, min_lr=0.0001, monitor='val_loss', mode='auto', verbose=1),\n",
        "    ModelCheckpoint('best_model.h5', save_best_only=True, save_weights_only=True, monitor='val_loss', mode='auto', verbose=1)\n",
        "]"
      ],
      "metadata": {
        "id": "lAQU0oVz7Gs4"
      },
      "execution_count": 143,
      "outputs": []
    },
    {
      "cell_type": "code",
      "source": [
        "autoencoder.fit(x_train, x_train, batch_size=batch_size, epochs=50, validation_split=0.2, callbacks=callbacks)"
      ],
      "metadata": {
        "colab": {
          "base_uri": "https://localhost:8080/"
        },
        "id": "FtBgHvs94d2w",
        "outputId": "a4f76726-7360-4158-c2bc-ef32a334d6ea"
      },
      "execution_count": 145,
      "outputs": [
        {
          "output_type": "stream",
          "name": "stdout",
          "text": [
            "Epoch 1/50\n",
            "750/750 [==============================] - ETA: 0s - loss: 0.0825\n",
            "Epoch 1: val_loss improved from 0.08468 to 0.08248, saving model to best_model.h5\n",
            "750/750 [==============================] - 4s 5ms/step - loss: 0.0825 - val_loss: 0.0825 - lr: 0.0010\n",
            "Epoch 2/50\n",
            "742/750 [============================>.] - ETA: 0s - loss: 0.0812\n",
            "Epoch 2: val_loss improved from 0.08248 to 0.08154, saving model to best_model.h5\n",
            "750/750 [==============================] - 4s 5ms/step - loss: 0.0812 - val_loss: 0.0815 - lr: 0.0010\n",
            "Epoch 3/50\n",
            "740/750 [============================>.] - ETA: 0s - loss: 0.0806\n",
            "Epoch 3: val_loss improved from 0.08154 to 0.08110, saving model to best_model.h5\n",
            "750/750 [==============================] - 5s 7ms/step - loss: 0.0806 - val_loss: 0.0811 - lr: 0.0010\n",
            "Epoch 4/50\n",
            "739/750 [============================>.] - ETA: 0s - loss: 0.0801\n",
            "Epoch 4: val_loss improved from 0.08110 to 0.08078, saving model to best_model.h5\n",
            "750/750 [==============================] - 4s 5ms/step - loss: 0.0801 - val_loss: 0.0808 - lr: 0.0010\n",
            "Epoch 5/50\n",
            "744/750 [============================>.] - ETA: 0s - loss: 0.0798\n",
            "Epoch 5: val_loss improved from 0.08078 to 0.08048, saving model to best_model.h5\n",
            "750/750 [==============================] - 5s 6ms/step - loss: 0.0798 - val_loss: 0.0805 - lr: 0.0010\n",
            "Epoch 6/50\n",
            "741/750 [============================>.] - ETA: 0s - loss: 0.0796\n",
            "Epoch 6: val_loss improved from 0.08048 to 0.08032, saving model to best_model.h5\n",
            "750/750 [==============================] - 6s 8ms/step - loss: 0.0796 - val_loss: 0.0803 - lr: 0.0010\n",
            "Epoch 7/50\n",
            "748/750 [============================>.] - ETA: 0s - loss: 0.0795\n",
            "Epoch 7: val_loss improved from 0.08032 to 0.08031, saving model to best_model.h5\n",
            "750/750 [==============================] - 4s 6ms/step - loss: 0.0795 - val_loss: 0.0803 - lr: 0.0010\n",
            "Epoch 8/50\n",
            "744/750 [============================>.] - ETA: 0s - loss: 0.0793\n",
            "Epoch 8: val_loss improved from 0.08031 to 0.08016, saving model to best_model.h5\n",
            "750/750 [==============================] - 5s 7ms/step - loss: 0.0793 - val_loss: 0.0802 - lr: 0.0010\n",
            "Epoch 9/50\n",
            "742/750 [============================>.] - ETA: 0s - loss: 0.0793\n",
            "Epoch 9: val_loss did not improve from 0.08016\n",
            "750/750 [==============================] - 4s 6ms/step - loss: 0.0793 - val_loss: 0.0802 - lr: 0.0010\n",
            "Epoch 10/50\n",
            "750/750 [==============================] - ETA: 0s - loss: 0.0792\n",
            "Epoch 10: val_loss improved from 0.08016 to 0.07996, saving model to best_model.h5\n",
            "750/750 [==============================] - 4s 5ms/step - loss: 0.0792 - val_loss: 0.0800 - lr: 0.0010\n",
            "Epoch 11/50\n",
            "742/750 [============================>.] - ETA: 0s - loss: 0.0791\n",
            "Epoch 11: val_loss did not improve from 0.07996\n",
            "750/750 [==============================] - 6s 7ms/step - loss: 0.0791 - val_loss: 0.0800 - lr: 0.0010\n",
            "Epoch 12/50\n",
            "750/750 [==============================] - ETA: 0s - loss: 0.0790\n",
            "Epoch 12: val_loss improved from 0.07996 to 0.07983, saving model to best_model.h5\n",
            "750/750 [==============================] - 4s 5ms/step - loss: 0.0790 - val_loss: 0.0798 - lr: 0.0010\n",
            "Epoch 13/50\n",
            "739/750 [============================>.] - ETA: 0s - loss: 0.0790\n",
            "Epoch 13: val_loss improved from 0.07983 to 0.07982, saving model to best_model.h5\n",
            "750/750 [==============================] - 5s 6ms/step - loss: 0.0790 - val_loss: 0.0798 - lr: 0.0010\n",
            "Epoch 14/50\n",
            "746/750 [============================>.] - ETA: 0s - loss: 0.0789\n",
            "Epoch 14: ReduceLROnPlateau reducing learning rate to 0.00010000000474974513.\n",
            "\n",
            "Epoch 14: val_loss improved from 0.07982 to 0.07978, saving model to best_model.h5\n",
            "750/750 [==============================] - 6s 8ms/step - loss: 0.0789 - val_loss: 0.0798 - lr: 0.0010\n",
            "Epoch 15/50\n",
            "744/750 [============================>.] - ETA: 0s - loss: 0.0782\n",
            "Epoch 15: val_loss improved from 0.07978 to 0.07919, saving model to best_model.h5\n",
            "750/750 [==============================] - 4s 6ms/step - loss: 0.0782 - val_loss: 0.0792 - lr: 1.0000e-04\n",
            "Epoch 16/50\n",
            "748/750 [============================>.] - ETA: 0s - loss: 0.0782\n",
            "Epoch 16: val_loss improved from 0.07919 to 0.07916, saving model to best_model.h5\n",
            "750/750 [==============================] - 6s 9ms/step - loss: 0.0782 - val_loss: 0.0792 - lr: 1.0000e-04\n",
            "Epoch 17/50\n",
            "750/750 [==============================] - ETA: 0s - loss: 0.0782\n",
            "Epoch 17: ReduceLROnPlateau reducing learning rate to 0.0001.\n",
            "\n",
            "Epoch 17: val_loss improved from 0.07916 to 0.07913, saving model to best_model.h5\n",
            "750/750 [==============================] - 5s 6ms/step - loss: 0.0782 - val_loss: 0.0791 - lr: 1.0000e-04\n",
            "Epoch 18/50\n",
            "744/750 [============================>.] - ETA: 0s - loss: 0.0781\n",
            "Epoch 18: val_loss improved from 0.07913 to 0.07913, saving model to best_model.h5\n",
            "750/750 [==============================] - 4s 5ms/step - loss: 0.0781 - val_loss: 0.0791 - lr: 1.0000e-04\n",
            "Epoch 19/50\n",
            "746/750 [============================>.] - ETA: 0s - loss: 0.0781\n",
            "Epoch 19: val_loss improved from 0.07913 to 0.07912, saving model to best_model.h5\n",
            "750/750 [==============================] - 5s 7ms/step - loss: 0.0781 - val_loss: 0.0791 - lr: 1.0000e-04\n",
            "Epoch 20/50\n",
            "742/750 [============================>.] - ETA: 0s - loss: 0.0781\n",
            "Epoch 20: val_loss improved from 0.07912 to 0.07912, saving model to best_model.h5\n",
            "750/750 [==============================] - 4s 6ms/step - loss: 0.0781 - val_loss: 0.0791 - lr: 1.0000e-04\n",
            "Epoch 21/50\n",
            "746/750 [============================>.] - ETA: 0s - loss: 0.0781\n",
            "Epoch 21: val_loss improved from 0.07912 to 0.07909, saving model to best_model.h5\n",
            "750/750 [==============================] - 5s 7ms/step - loss: 0.0781 - val_loss: 0.0791 - lr: 1.0000e-04\n",
            "Epoch 22/50\n",
            "748/750 [============================>.] - ETA: 0s - loss: 0.0781\n",
            "Epoch 22: val_loss did not improve from 0.07909\n",
            "750/750 [==============================] - 4s 6ms/step - loss: 0.0781 - val_loss: 0.0791 - lr: 1.0000e-04\n",
            "Epoch 23/50\n",
            "742/750 [============================>.] - ETA: 0s - loss: 0.0781\n",
            "Epoch 23: val_loss improved from 0.07909 to 0.07909, saving model to best_model.h5\n",
            "750/750 [==============================] - 4s 5ms/step - loss: 0.0781 - val_loss: 0.0791 - lr: 1.0000e-04\n",
            "Epoch 24/50\n",
            "746/750 [============================>.] - ETA: 0s - loss: 0.0781\n",
            "Epoch 24: val_loss improved from 0.07909 to 0.07907, saving model to best_model.h5\n",
            "750/750 [==============================] - 5s 7ms/step - loss: 0.0781 - val_loss: 0.0791 - lr: 1.0000e-04\n",
            "Epoch 25/50\n",
            "742/750 [============================>.] - ETA: 0s - loss: 0.0781\n",
            "Epoch 25: val_loss improved from 0.07907 to 0.07907, saving model to best_model.h5\n",
            "750/750 [==============================] - 4s 5ms/step - loss: 0.0781 - val_loss: 0.0791 - lr: 1.0000e-04\n",
            "Epoch 26/50\n",
            "745/750 [============================>.] - ETA: 0s - loss: 0.0781\n",
            "Epoch 26: val_loss improved from 0.07907 to 0.07906, saving model to best_model.h5\n",
            "750/750 [==============================] - 4s 6ms/step - loss: 0.0781 - val_loss: 0.0791 - lr: 1.0000e-04\n",
            "Epoch 27/50\n",
            "744/750 [============================>.] - ETA: 0s - loss: 0.0781\n",
            "Epoch 27: val_loss did not improve from 0.07906\n",
            "750/750 [==============================] - 6s 7ms/step - loss: 0.0781 - val_loss: 0.0791 - lr: 1.0000e-04\n",
            "Epoch 28/50\n",
            "750/750 [==============================] - ETA: 0s - loss: 0.0781\n",
            "Epoch 28: val_loss did not improve from 0.07906\n",
            "750/750 [==============================] - 5s 6ms/step - loss: 0.0781 - val_loss: 0.0791 - lr: 1.0000e-04\n",
            "Epoch 29/50\n",
            "747/750 [============================>.] - ETA: 0s - loss: 0.0781\n",
            "Epoch 29: val_loss did not improve from 0.07906\n",
            "750/750 [==============================] - 4s 6ms/step - loss: 0.0781 - val_loss: 0.0791 - lr: 1.0000e-04\n"
          ]
        },
        {
          "output_type": "execute_result",
          "data": {
            "text/plain": [
              "<keras.callbacks.History at 0x7bd6da76ec80>"
            ]
          },
          "metadata": {},
          "execution_count": 145
        }
      ]
    },
    {
      "cell_type": "code",
      "source": [
        "autoencoder.load_weights('best_model.h5')"
      ],
      "metadata": {
        "id": "isQQIiH_8wgX"
      },
      "execution_count": 146,
      "outputs": []
    },
    {
      "cell_type": "code",
      "source": [
        "%matplotlib inline\n",
        "import seaborn as sns\n",
        "import matplotlib.pyplot as plt\n",
        "\n",
        "def plot_digits(*args):\n",
        "    args = [x.squeeze() for x in args]\n",
        "    n = min([x.shape[0] for x in args])\n",
        "\n",
        "    plt.figure(figsize=(2*n, 2*len(args)))\n",
        "    for j in range(n):\n",
        "        for i in range(len(args)):\n",
        "            ax = plt.subplot(len(args), n, i*n + j + 1)\n",
        "            plt.imshow(args[i][j])\n",
        "            plt.gray()\n",
        "            ax.get_xaxis().set_visible(False)\n",
        "            ax.get_yaxis().set_visible(False)\n",
        "\n",
        "    plt.show()"
      ],
      "metadata": {
        "id": "zpm20gz18-pD"
      },
      "execution_count": 147,
      "outputs": []
    },
    {
      "cell_type": "code",
      "source": [
        "n = 10\n",
        "\n",
        "imgs = x_test[:n]\n",
        "encoded_imgs = encoder.predict(imgs, batch_size=n)"
      ],
      "metadata": {
        "colab": {
          "base_uri": "https://localhost:8080/"
        },
        "id": "TgwssQnlMoiT",
        "outputId": "ebf5a275-d40b-48b1-c6b6-25537c5a6d37"
      },
      "execution_count": 148,
      "outputs": [
        {
          "output_type": "stream",
          "name": "stdout",
          "text": [
            "1/1 [==============================] - 0s 115ms/step\n"
          ]
        }
      ]
    },
    {
      "cell_type": "code",
      "source": [
        "decoded_imgs = decoder.predict(encoded_imgs, batch_size=n)\n",
        "\n",
        "plot_digits(imgs, decoded_imgs)"
      ],
      "metadata": {
        "colab": {
          "base_uri": "https://localhost:8080/",
          "height": 302
        },
        "id": "y_GvrBYhMvdP",
        "outputId": "4c191d1f-2103-44b2-f789-ed833855719d"
      },
      "execution_count": 149,
      "outputs": [
        {
          "output_type": "stream",
          "name": "stdout",
          "text": [
            "1/1 [==============================] - 0s 52ms/step\n"
          ]
        },
        {
          "output_type": "display_data",
          "data": {
            "text/plain": [
              "<Figure size 2000x400 with 20 Axes>"
            ],
            "image/png": "[encoded data removed]"
          },
          "metadata": {}
        }
      ]
    }
  ]
}